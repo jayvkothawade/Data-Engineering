{
 "cells": [
  {
   "cell_type": "code",
   "execution_count": 0,
   "metadata": {
    "application/vnd.databricks.v1+cell": {
     "cellMetadata": {
      "byteLimit": 2048000,
      "rowLimit": 10000
     },
     "inputWidgets": {},
     "nuid": "f663d417-6f06-40cd-9b2e-30701793af58",
     "showTitle": false,
     "tableResultSettingsMap": {},
     "title": ""
    }
   },
   "outputs": [
    {
     "output_type": "display_data",
     "data": {
      "text/html": [
       "<style scoped>\n",
       "  .table-result-container {\n",
       "    max-height: 300px;\n",
       "    overflow: auto;\n",
       "  }\n",
       "  table, th, td {\n",
       "    border: 1px solid black;\n",
       "    border-collapse: collapse;\n",
       "  }\n",
       "  th, td {\n",
       "    padding: 5px;\n",
       "  }\n",
       "  th {\n",
       "    text-align: left;\n",
       "  }\n",
       "</style><div class='table-result-container'><table class='table-result'><thead style='background-color: white'><tr><th>path</th><th>name</th><th>size</th><th>modificationTime</th></tr></thead><tbody><tr><td>dbfs:/FileStore/apache_logs.txt</td><td>apache_logs.txt</td><td>2370789</td><td>1729949819000</td></tr><tr><td>dbfs:/FileStore/cleaned_logs.csv/</td><td>cleaned_logs.csv/</td><td>0</td><td>0</td></tr><tr><td>dbfs:/FileStore/cleaned_logs.parquet/</td><td>cleaned_logs.parquet/</td><td>0</td><td>0</td></tr><tr><td>dbfs:/FileStore/status_counts.parquet/</td><td>status_counts.parquet/</td><td>0</td><td>0</td></tr><tr><td>dbfs:/FileStore/tables/</td><td>tables/</td><td>0</td><td>0</td></tr><tr><td>dbfs:/FileStore/url_sizes.parquet/</td><td>url_sizes.parquet/</td><td>0</td><td>0</td></tr></tbody></table></div>"
      ]
     },
     "metadata": {
      "application/vnd.databricks.v1+output": {
       "addedWidgets": {},
       "aggData": [],
       "aggError": "",
       "aggOverflow": false,
       "aggSchema": [],
       "aggSeriesLimitReached": false,
       "aggType": "",
       "arguments": {},
       "columnCustomDisplayInfos": {},
       "data": [
        [
         "dbfs:/FileStore/apache_logs.txt",
         "apache_logs.txt",
         2370789,
         1729949819000
        ],
        [
         "dbfs:/FileStore/cleaned_logs.csv/",
         "cleaned_logs.csv/",
         0,
         0
        ],
        [
         "dbfs:/FileStore/cleaned_logs.parquet/",
         "cleaned_logs.parquet/",
         0,
         0
        ],
        [
         "dbfs:/FileStore/status_counts.parquet/",
         "status_counts.parquet/",
         0,
         0
        ],
        [
         "dbfs:/FileStore/tables/",
         "tables/",
         0,
         0
        ],
        [
         "dbfs:/FileStore/url_sizes.parquet/",
         "url_sizes.parquet/",
         0,
         0
        ]
       ],
       "datasetInfos": [],
       "dbfsResultPath": null,
       "isJsonSchema": true,
       "metadata": {
        "isDbfsCommandResult": false
       },
       "overflow": false,
       "plotOptions": {
        "customPlotOptions": {},
        "displayType": "table",
        "pivotAggregation": null,
        "pivotColumns": null,
        "xColumns": null,
        "yColumns": null
       },
       "removedWidgets": [],
       "schema": [
        {
         "metadata": "{}",
         "name": "path",
         "type": "\"string\""
        },
        {
         "metadata": "{}",
         "name": "name",
         "type": "\"string\""
        },
        {
         "metadata": "{}",
         "name": "size",
         "type": "\"long\""
        },
        {
         "metadata": "{}",
         "name": "modificationTime",
         "type": "\"long\""
        }
       ],
       "type": "table"
      }
     },
     "output_type": "display_data"
    }
   ],
   "source": [
    "%fs\n",
    "ls /FileStore/"
   ]
  },
  {
   "cell_type": "code",
   "execution_count": 0,
   "metadata": {
    "application/vnd.databricks.v1+cell": {
     "cellMetadata": {
      "byteLimit": 2048000,
      "rowLimit": 10000
     },
     "inputWidgets": {},
     "nuid": "33d54782-83f6-4167-b513-717c1f9707a4",
     "showTitle": false,
     "tableResultSettingsMap": {},
     "title": ""
    }
   },
   "outputs": [],
   "source": [
    "log_data_path = \"dbfs:/FileStore/apache_logs.txt\"\n",
    "raw_data = spark.read.text(log_data_path)"
   ]
  },
  {
   "cell_type": "code",
   "execution_count": 0,
   "metadata": {
    "application/vnd.databricks.v1+cell": {
     "cellMetadata": {
      "byteLimit": 2048000,
      "rowLimit": 10000
     },
     "inputWidgets": {},
     "nuid": "7c011a44-13c6-41ce-a304-98b6ec4e7a5a",
     "showTitle": false,
     "tableResultSettingsMap": {},
     "title": ""
    }
   },
   "outputs": [
    {
     "output_type": "stream",
     "name": "stdout",
     "output_type": "stream",
     "text": [
      "+------------------------------------------------------------------------------------------------------------------------------------------------------------------------------------------------------------------------------------------------------------------------------------------------------------------------------------------------------+\n|value                                                                                                                                                                                                                                                                                                                                                 |\n+------------------------------------------------------------------------------------------------------------------------------------------------------------------------------------------------------------------------------------------------------------------------------------------------------------------------------------------------------+\n|83.149.9.216 - - [17/May/2015:10:05:03 +0000] \"GET /presentations/logstash-monitorama-2013/images/kibana-search.png HTTP/1.1\" 200 203023 \"http://semicomplete.com/presentations/logstash-monitorama-2013/\" \"Mozilla/5.0 (Macintosh; Intel Mac OS X 10_9_1) AppleWebKit/537.36 (KHTML, like Gecko) Chrome/32.0.1700.77 Safari/537.36\"                  |\n|83.149.9.216 - - [17/May/2015:10:05:43 +0000] \"GET /presentations/logstash-monitorama-2013/images/kibana-dashboard3.png HTTP/1.1\" 200 171717 \"http://semicomplete.com/presentations/logstash-monitorama-2013/\" \"Mozilla/5.0 (Macintosh; Intel Mac OS X 10_9_1) AppleWebKit/537.36 (KHTML, like Gecko) Chrome/32.0.1700.77 Safari/537.36\"              |\n|83.149.9.216 - - [17/May/2015:10:05:47 +0000] \"GET /presentations/logstash-monitorama-2013/plugin/highlight/highlight.js HTTP/1.1\" 200 26185 \"http://semicomplete.com/presentations/logstash-monitorama-2013/\" \"Mozilla/5.0 (Macintosh; Intel Mac OS X 10_9_1) AppleWebKit/537.36 (KHTML, like Gecko) Chrome/32.0.1700.77 Safari/537.36\"              |\n|83.149.9.216 - - [17/May/2015:10:05:12 +0000] \"GET /presentations/logstash-monitorama-2013/plugin/zoom-js/zoom.js HTTP/1.1\" 200 7697 \"http://semicomplete.com/presentations/logstash-monitorama-2013/\" \"Mozilla/5.0 (Macintosh; Intel Mac OS X 10_9_1) AppleWebKit/537.36 (KHTML, like Gecko) Chrome/32.0.1700.77 Safari/537.36\"                      |\n|83.149.9.216 - - [17/May/2015:10:05:07 +0000] \"GET /presentations/logstash-monitorama-2013/plugin/notes/notes.js HTTP/1.1\" 200 2892 \"http://semicomplete.com/presentations/logstash-monitorama-2013/\" \"Mozilla/5.0 (Macintosh; Intel Mac OS X 10_9_1) AppleWebKit/537.36 (KHTML, like Gecko) Chrome/32.0.1700.77 Safari/537.36\"                       |\n|83.149.9.216 - - [17/May/2015:10:05:34 +0000] \"GET /presentations/logstash-monitorama-2013/images/sad-medic.png HTTP/1.1\" 200 430406 \"http://semicomplete.com/presentations/logstash-monitorama-2013/\" \"Mozilla/5.0 (Macintosh; Intel Mac OS X 10_9_1) AppleWebKit/537.36 (KHTML, like Gecko) Chrome/32.0.1700.77 Safari/537.36\"                      |\n|83.149.9.216 - - [17/May/2015:10:05:57 +0000] \"GET /presentations/logstash-monitorama-2013/css/fonts/Roboto-Bold.ttf HTTP/1.1\" 200 38720 \"http://semicomplete.com/presentations/logstash-monitorama-2013/\" \"Mozilla/5.0 (Macintosh; Intel Mac OS X 10_9_1) AppleWebKit/537.36 (KHTML, like Gecko) Chrome/32.0.1700.77 Safari/537.36\"                  |\n|83.149.9.216 - - [17/May/2015:10:05:50 +0000] \"GET /presentations/logstash-monitorama-2013/css/fonts/Roboto-Regular.ttf HTTP/1.1\" 200 41820 \"http://semicomplete.com/presentations/logstash-monitorama-2013/\" \"Mozilla/5.0 (Macintosh; Intel Mac OS X 10_9_1) AppleWebKit/537.36 (KHTML, like Gecko) Chrome/32.0.1700.77 Safari/537.36\"               |\n|83.149.9.216 - - [17/May/2015:10:05:24 +0000] \"GET /presentations/logstash-monitorama-2013/images/frontend-response-codes.png HTTP/1.1\" 200 52878 \"http://semicomplete.com/presentations/logstash-monitorama-2013/\" \"Mozilla/5.0 (Macintosh; Intel Mac OS X 10_9_1) AppleWebKit/537.36 (KHTML, like Gecko) Chrome/32.0.1700.77 Safari/537.36\"         |\n|83.149.9.216 - - [17/May/2015:10:05:50 +0000] \"GET /presentations/logstash-monitorama-2013/images/kibana-dashboard.png HTTP/1.1\" 200 321631 \"http://semicomplete.com/presentations/logstash-monitorama-2013/\" \"Mozilla/5.0 (Macintosh; Intel Mac OS X 10_9_1) AppleWebKit/537.36 (KHTML, like Gecko) Chrome/32.0.1700.77 Safari/537.36\"               |\n|83.149.9.216 - - [17/May/2015:10:05:46 +0000] \"GET /presentations/logstash-monitorama-2013/images/Dreamhost_logo.svg HTTP/1.1\" 200 2126 \"http://semicomplete.com/presentations/logstash-monitorama-2013/\" \"Mozilla/5.0 (Macintosh; Intel Mac OS X 10_9_1) AppleWebKit/537.36 (KHTML, like Gecko) Chrome/32.0.1700.77 Safari/537.36\"                   |\n|83.149.9.216 - - [17/May/2015:10:05:11 +0000] \"GET /presentations/logstash-monitorama-2013/images/kibana-dashboard2.png HTTP/1.1\" 200 394967 \"http://semicomplete.com/presentations/logstash-monitorama-2013/\" \"Mozilla/5.0 (Macintosh; Intel Mac OS X 10_9_1) AppleWebKit/537.36 (KHTML, like Gecko) Chrome/32.0.1700.77 Safari/537.36\"              |\n|83.149.9.216 - - [17/May/2015:10:05:19 +0000] \"GET /presentations/logstash-monitorama-2013/images/apache-icon.gif HTTP/1.1\" 200 8095 \"http://semicomplete.com/presentations/logstash-monitorama-2013/\" \"Mozilla/5.0 (Macintosh; Intel Mac OS X 10_9_1) AppleWebKit/537.36 (KHTML, like Gecko) Chrome/32.0.1700.77 Safari/537.36\"                      |\n|83.149.9.216 - - [17/May/2015:10:05:33 +0000] \"GET /presentations/logstash-monitorama-2013/images/nagios-sms5.png HTTP/1.1\" 200 78075 \"http://semicomplete.com/presentations/logstash-monitorama-2013/\" \"Mozilla/5.0 (Macintosh; Intel Mac OS X 10_9_1) AppleWebKit/537.36 (KHTML, like Gecko) Chrome/32.0.1700.77 Safari/537.36\"                     |\n|83.149.9.216 - - [17/May/2015:10:05:00 +0000] \"GET /presentations/logstash-monitorama-2013/images/redis.png HTTP/1.1\" 200 25230 \"http://semicomplete.com/presentations/logstash-monitorama-2013/\" \"Mozilla/5.0 (Macintosh; Intel Mac OS X 10_9_1) AppleWebKit/537.36 (KHTML, like Gecko) Chrome/32.0.1700.77 Safari/537.36\"                           |\n|83.149.9.216 - - [17/May/2015:10:05:25 +0000] \"GET /presentations/logstash-monitorama-2013/images/elasticsearch.png HTTP/1.1\" 200 8026 \"http://semicomplete.com/presentations/logstash-monitorama-2013/\" \"Mozilla/5.0 (Macintosh; Intel Mac OS X 10_9_1) AppleWebKit/537.36 (KHTML, like Gecko) Chrome/32.0.1700.77 Safari/537.36\"                    |\n|83.149.9.216 - - [17/May/2015:10:05:59 +0000] \"GET /presentations/logstash-monitorama-2013/images/logstashbook.png HTTP/1.1\" 200 54662 \"http://semicomplete.com/presentations/logstash-monitorama-2013/\" \"Mozilla/5.0 (Macintosh; Intel Mac OS X 10_9_1) AppleWebKit/537.36 (KHTML, like Gecko) Chrome/32.0.1700.77 Safari/537.36\"                    |\n|83.149.9.216 - - [17/May/2015:10:05:30 +0000] \"GET /presentations/logstash-monitorama-2013/images/github-contributions.png HTTP/1.1\" 200 34245 \"http://semicomplete.com/presentations/logstash-monitorama-2013/\" \"Mozilla/5.0 (Macintosh; Intel Mac OS X 10_9_1) AppleWebKit/537.36 (KHTML, like Gecko) Chrome/32.0.1700.77 Safari/537.36\"            |\n|83.149.9.216 - - [17/May/2015:10:05:53 +0000] \"GET /presentations/logstash-monitorama-2013/css/print/paper.css HTTP/1.1\" 200 4254 \"http://semicomplete.com/presentations/logstash-monitorama-2013/\" \"Mozilla/5.0 (Macintosh; Intel Mac OS X 10_9_1) AppleWebKit/537.36 (KHTML, like Gecko) Chrome/32.0.1700.77 Safari/537.36\"                         |\n|83.149.9.216 - - [17/May/2015:10:05:24 +0000] \"GET /presentations/logstash-monitorama-2013/images/1983_delorean_dmc-12-pic-38289.jpeg HTTP/1.1\" 200 220562 \"http://semicomplete.com/presentations/logstash-monitorama-2013/\" \"Mozilla/5.0 (Macintosh; Intel Mac OS X 10_9_1) AppleWebKit/537.36 (KHTML, like Gecko) Chrome/32.0.1700.77 Safari/537.36\"|\n+------------------------------------------------------------------------------------------------------------------------------------------------------------------------------------------------------------------------------------------------------------------------------------------------------------------------------------------------------+\nonly showing top 20 rows\n\n"
     ]
    }
   ],
   "source": [
    "raw_data.show(truncate=False)"
   ]
  },
  {
   "cell_type": "code",
   "execution_count": 0,
   "metadata": {
    "application/vnd.databricks.v1+cell": {
     "cellMetadata": {
      "byteLimit": 2048000,
      "rowLimit": 10000
     },
     "inputWidgets": {},
     "nuid": "24ce4659-a8f0-464c-8567-50c4f2cbd147",
     "showTitle": false,
     "tableResultSettingsMap": {},
     "title": ""
    }
   },
   "outputs": [
    {
     "output_type": "stream",
     "name": "stdout",
     "output_type": "stream",
     "text": [
      "+------------+--------------------------+------+----------------------------------------------------------------------------------+--------+------+------+---------------------------------------------------------------+-----------------------------------------------------------------------------------------------------------------------+\n|ip          |timestamp                 |method|url                                                                               |protocol|status|size  |referrer                                                       |user_agent                                                                                                             |\n+------------+--------------------------+------+----------------------------------------------------------------------------------+--------+------+------+---------------------------------------------------------------+-----------------------------------------------------------------------------------------------------------------------+\n|83.149.9.216|17/May/2015:10:05:03 +0000|GET   |/presentations/logstash-monitorama-2013/images/kibana-search.png                  |HTTP/1.1|200   |203023|http://semicomplete.com/presentations/logstash-monitorama-2013/|Mozilla/5.0 (Macintosh; Intel Mac OS X 10_9_1) AppleWebKit/537.36 (KHTML, like Gecko) Chrome/32.0.1700.77 Safari/537.36|\n|83.149.9.216|17/May/2015:10:05:43 +0000|GET   |/presentations/logstash-monitorama-2013/images/kibana-dashboard3.png              |HTTP/1.1|200   |171717|http://semicomplete.com/presentations/logstash-monitorama-2013/|Mozilla/5.0 (Macintosh; Intel Mac OS X 10_9_1) AppleWebKit/537.36 (KHTML, like Gecko) Chrome/32.0.1700.77 Safari/537.36|\n|83.149.9.216|17/May/2015:10:05:47 +0000|GET   |/presentations/logstash-monitorama-2013/plugin/highlight/highlight.js             |HTTP/1.1|200   |26185 |http://semicomplete.com/presentations/logstash-monitorama-2013/|Mozilla/5.0 (Macintosh; Intel Mac OS X 10_9_1) AppleWebKit/537.36 (KHTML, like Gecko) Chrome/32.0.1700.77 Safari/537.36|\n|83.149.9.216|17/May/2015:10:05:12 +0000|GET   |/presentations/logstash-monitorama-2013/plugin/zoom-js/zoom.js                    |HTTP/1.1|200   |7697  |http://semicomplete.com/presentations/logstash-monitorama-2013/|Mozilla/5.0 (Macintosh; Intel Mac OS X 10_9_1) AppleWebKit/537.36 (KHTML, like Gecko) Chrome/32.0.1700.77 Safari/537.36|\n|83.149.9.216|17/May/2015:10:05:07 +0000|GET   |/presentations/logstash-monitorama-2013/plugin/notes/notes.js                     |HTTP/1.1|200   |2892  |http://semicomplete.com/presentations/logstash-monitorama-2013/|Mozilla/5.0 (Macintosh; Intel Mac OS X 10_9_1) AppleWebKit/537.36 (KHTML, like Gecko) Chrome/32.0.1700.77 Safari/537.36|\n|83.149.9.216|17/May/2015:10:05:34 +0000|GET   |/presentations/logstash-monitorama-2013/images/sad-medic.png                      |HTTP/1.1|200   |430406|http://semicomplete.com/presentations/logstash-monitorama-2013/|Mozilla/5.0 (Macintosh; Intel Mac OS X 10_9_1) AppleWebKit/537.36 (KHTML, like Gecko) Chrome/32.0.1700.77 Safari/537.36|\n|83.149.9.216|17/May/2015:10:05:57 +0000|GET   |/presentations/logstash-monitorama-2013/css/fonts/Roboto-Bold.ttf                 |HTTP/1.1|200   |38720 |http://semicomplete.com/presentations/logstash-monitorama-2013/|Mozilla/5.0 (Macintosh; Intel Mac OS X 10_9_1) AppleWebKit/537.36 (KHTML, like Gecko) Chrome/32.0.1700.77 Safari/537.36|\n|83.149.9.216|17/May/2015:10:05:50 +0000|GET   |/presentations/logstash-monitorama-2013/css/fonts/Roboto-Regular.ttf              |HTTP/1.1|200   |41820 |http://semicomplete.com/presentations/logstash-monitorama-2013/|Mozilla/5.0 (Macintosh; Intel Mac OS X 10_9_1) AppleWebKit/537.36 (KHTML, like Gecko) Chrome/32.0.1700.77 Safari/537.36|\n|83.149.9.216|17/May/2015:10:05:24 +0000|GET   |/presentations/logstash-monitorama-2013/images/frontend-response-codes.png        |HTTP/1.1|200   |52878 |http://semicomplete.com/presentations/logstash-monitorama-2013/|Mozilla/5.0 (Macintosh; Intel Mac OS X 10_9_1) AppleWebKit/537.36 (KHTML, like Gecko) Chrome/32.0.1700.77 Safari/537.36|\n|83.149.9.216|17/May/2015:10:05:50 +0000|GET   |/presentations/logstash-monitorama-2013/images/kibana-dashboard.png               |HTTP/1.1|200   |321631|http://semicomplete.com/presentations/logstash-monitorama-2013/|Mozilla/5.0 (Macintosh; Intel Mac OS X 10_9_1) AppleWebKit/537.36 (KHTML, like Gecko) Chrome/32.0.1700.77 Safari/537.36|\n|83.149.9.216|17/May/2015:10:05:46 +0000|GET   |/presentations/logstash-monitorama-2013/images/Dreamhost_logo.svg                 |HTTP/1.1|200   |2126  |http://semicomplete.com/presentations/logstash-monitorama-2013/|Mozilla/5.0 (Macintosh; Intel Mac OS X 10_9_1) AppleWebKit/537.36 (KHTML, like Gecko) Chrome/32.0.1700.77 Safari/537.36|\n|83.149.9.216|17/May/2015:10:05:11 +0000|GET   |/presentations/logstash-monitorama-2013/images/kibana-dashboard2.png              |HTTP/1.1|200   |394967|http://semicomplete.com/presentations/logstash-monitorama-2013/|Mozilla/5.0 (Macintosh; Intel Mac OS X 10_9_1) AppleWebKit/537.36 (KHTML, like Gecko) Chrome/32.0.1700.77 Safari/537.36|\n|83.149.9.216|17/May/2015:10:05:19 +0000|GET   |/presentations/logstash-monitorama-2013/images/apache-icon.gif                    |HTTP/1.1|200   |8095  |http://semicomplete.com/presentations/logstash-monitorama-2013/|Mozilla/5.0 (Macintosh; Intel Mac OS X 10_9_1) AppleWebKit/537.36 (KHTML, like Gecko) Chrome/32.0.1700.77 Safari/537.36|\n|83.149.9.216|17/May/2015:10:05:33 +0000|GET   |/presentations/logstash-monitorama-2013/images/nagios-sms5.png                    |HTTP/1.1|200   |78075 |http://semicomplete.com/presentations/logstash-monitorama-2013/|Mozilla/5.0 (Macintosh; Intel Mac OS X 10_9_1) AppleWebKit/537.36 (KHTML, like Gecko) Chrome/32.0.1700.77 Safari/537.36|\n|83.149.9.216|17/May/2015:10:05:00 +0000|GET   |/presentations/logstash-monitorama-2013/images/redis.png                          |HTTP/1.1|200   |25230 |http://semicomplete.com/presentations/logstash-monitorama-2013/|Mozilla/5.0 (Macintosh; Intel Mac OS X 10_9_1) AppleWebKit/537.36 (KHTML, like Gecko) Chrome/32.0.1700.77 Safari/537.36|\n|83.149.9.216|17/May/2015:10:05:25 +0000|GET   |/presentations/logstash-monitorama-2013/images/elasticsearch.png                  |HTTP/1.1|200   |8026  |http://semicomplete.com/presentations/logstash-monitorama-2013/|Mozilla/5.0 (Macintosh; Intel Mac OS X 10_9_1) AppleWebKit/537.36 (KHTML, like Gecko) Chrome/32.0.1700.77 Safari/537.36|\n|83.149.9.216|17/May/2015:10:05:59 +0000|GET   |/presentations/logstash-monitorama-2013/images/logstashbook.png                   |HTTP/1.1|200   |54662 |http://semicomplete.com/presentations/logstash-monitorama-2013/|Mozilla/5.0 (Macintosh; Intel Mac OS X 10_9_1) AppleWebKit/537.36 (KHTML, like Gecko) Chrome/32.0.1700.77 Safari/537.36|\n|83.149.9.216|17/May/2015:10:05:30 +0000|GET   |/presentations/logstash-monitorama-2013/images/github-contributions.png           |HTTP/1.1|200   |34245 |http://semicomplete.com/presentations/logstash-monitorama-2013/|Mozilla/5.0 (Macintosh; Intel Mac OS X 10_9_1) AppleWebKit/537.36 (KHTML, like Gecko) Chrome/32.0.1700.77 Safari/537.36|\n|83.149.9.216|17/May/2015:10:05:53 +0000|GET   |/presentations/logstash-monitorama-2013/css/print/paper.css                       |HTTP/1.1|200   |4254  |http://semicomplete.com/presentations/logstash-monitorama-2013/|Mozilla/5.0 (Macintosh; Intel Mac OS X 10_9_1) AppleWebKit/537.36 (KHTML, like Gecko) Chrome/32.0.1700.77 Safari/537.36|\n|83.149.9.216|17/May/2015:10:05:24 +0000|GET   |/presentations/logstash-monitorama-2013/images/1983_delorean_dmc-12-pic-38289.jpeg|HTTP/1.1|200   |220562|http://semicomplete.com/presentations/logstash-monitorama-2013/|Mozilla/5.0 (Macintosh; Intel Mac OS X 10_9_1) AppleWebKit/537.36 (KHTML, like Gecko) Chrome/32.0.1700.77 Safari/537.36|\n+------------+--------------------------+------+----------------------------------------------------------------------------------+--------+------+------+---------------------------------------------------------------+-----------------------------------------------------------------------------------------------------------------------+\nonly showing top 20 rows\n\n"
     ]
    }
   ],
   "source": [
    "from pyspark.sql.functions import regexp_extract\n",
    "\n",
    "# Update the log pattern to use numbered groups instead of named groups\n",
    "log_pattern = r'^(\\S+) - - \\[(.*?)\\] \"(\\S+) (\\S+) (\\S+)\" (\\d{3}) (\\d+) \"(.*?)\" \"(.*?)\"'\n",
    "\n",
    "# Assuming you have a DataFrame `logs_df` with a column named 'value' containing the log lines\n",
    "parsed_logs_df = raw_data.select(\n",
    "    regexp_extract('value', log_pattern, 1).alias('ip'),\n",
    "    regexp_extract('value', log_pattern, 2).alias('timestamp'),\n",
    "    regexp_extract('value', log_pattern, 3).alias('method'),\n",
    "    regexp_extract('value', log_pattern, 4).alias('url'),\n",
    "    regexp_extract('value', log_pattern, 5).alias('protocol'),\n",
    "    regexp_extract('value', log_pattern, 6).alias('status'),\n",
    "    regexp_extract('value', log_pattern, 7).alias('size'),\n",
    "    regexp_extract('value', log_pattern, 8).alias('referrer'),\n",
    "    regexp_extract('value', log_pattern, 9).alias('user_agent')\n",
    ")\n",
    "\n",
    "# Show the parsed DataFrame\n",
    "parsed_logs_df.show(truncate=False)\n"
   ]
  },
  {
   "cell_type": "code",
   "execution_count": 0,
   "metadata": {
    "application/vnd.databricks.v1+cell": {
     "cellMetadata": {
      "byteLimit": 2048000,
      "rowLimit": 10000
     },
     "inputWidgets": {},
     "nuid": "3a6fe6d2-2113-4eef-9e68-ff4b66c2fa33",
     "showTitle": false,
     "tableResultSettingsMap": {},
     "title": ""
    }
   },
   "outputs": [
    {
     "output_type": "stream",
     "name": "stdout",
     "output_type": "stream",
     "text": [
      "+------------+--------------------+------+--------------------+--------+------+------+--------------------+--------------------+\n|          ip|           timestamp|method|                 url|protocol|status|  size|            referrer|          user_agent|\n+------------+--------------------+------+--------------------+--------+------+------+--------------------+--------------------+\n|83.149.9.216|17/May/2015:10:05...|   GET|/presentations/lo...|HTTP/1.1|   200|203023|http://semicomple...|Mozilla/5.0 (Maci...|\n+------------+--------------------+------+--------------------+--------+------+------+--------------------+--------------------+\nonly showing top 1 row\n\n"
     ]
    }
   ],
   "source": [
    "parsed_logs_df.show(1)\n",
    "#parsed_logs_df.printSchema()\n"
   ]
  },
  {
   "cell_type": "code",
   "execution_count": 0,
   "metadata": {
    "application/vnd.databricks.v1+cell": {
     "cellMetadata": {
      "byteLimit": 2048000,
      "rowLimit": 10000
     },
     "inputWidgets": {},
     "nuid": "c572557c-2f3e-4ff4-8f7b-2b462870059c",
     "showTitle": false,
     "tableResultSettingsMap": {},
     "title": ""
    }
   },
   "outputs": [
    {
     "output_type": "stream",
     "name": "stdout",
     "output_type": "stream",
     "text": [
      "+------------+-------------------+------+----------------------------------------------------------------------------------+--------+------+------+---------------------------------------------------------------+-----------------------------------------------------------------------------------------------------------------------+\n|ip          |timestamp          |method|url                                                                               |protocol|status|size  |referrer                                                       |user_agent                                                                                                             |\n+------------+-------------------+------+----------------------------------------------------------------------------------+--------+------+------+---------------------------------------------------------------+-----------------------------------------------------------------------------------------------------------------------+\n|83.149.9.216|2015-05-17 10:05:03|GET   |/presentations/logstash-monitorama-2013/images/kibana-search.png                  |HTTP/1.1|200   |203023|http://semicomplete.com/presentations/logstash-monitorama-2013/|Mozilla/5.0 (Macintosh; Intel Mac OS X 10_9_1) AppleWebKit/537.36 (KHTML, like Gecko) Chrome/32.0.1700.77 Safari/537.36|\n|83.149.9.216|2015-05-17 10:05:43|GET   |/presentations/logstash-monitorama-2013/images/kibana-dashboard3.png              |HTTP/1.1|200   |171717|http://semicomplete.com/presentations/logstash-monitorama-2013/|Mozilla/5.0 (Macintosh; Intel Mac OS X 10_9_1) AppleWebKit/537.36 (KHTML, like Gecko) Chrome/32.0.1700.77 Safari/537.36|\n|83.149.9.216|2015-05-17 10:05:47|GET   |/presentations/logstash-monitorama-2013/plugin/highlight/highlight.js             |HTTP/1.1|200   |26185 |http://semicomplete.com/presentations/logstash-monitorama-2013/|Mozilla/5.0 (Macintosh; Intel Mac OS X 10_9_1) AppleWebKit/537.36 (KHTML, like Gecko) Chrome/32.0.1700.77 Safari/537.36|\n|83.149.9.216|2015-05-17 10:05:12|GET   |/presentations/logstash-monitorama-2013/plugin/zoom-js/zoom.js                    |HTTP/1.1|200   |7697  |http://semicomplete.com/presentations/logstash-monitorama-2013/|Mozilla/5.0 (Macintosh; Intel Mac OS X 10_9_1) AppleWebKit/537.36 (KHTML, like Gecko) Chrome/32.0.1700.77 Safari/537.36|\n|83.149.9.216|2015-05-17 10:05:07|GET   |/presentations/logstash-monitorama-2013/plugin/notes/notes.js                     |HTTP/1.1|200   |2892  |http://semicomplete.com/presentations/logstash-monitorama-2013/|Mozilla/5.0 (Macintosh; Intel Mac OS X 10_9_1) AppleWebKit/537.36 (KHTML, like Gecko) Chrome/32.0.1700.77 Safari/537.36|\n|83.149.9.216|2015-05-17 10:05:34|GET   |/presentations/logstash-monitorama-2013/images/sad-medic.png                      |HTTP/1.1|200   |430406|http://semicomplete.com/presentations/logstash-monitorama-2013/|Mozilla/5.0 (Macintosh; Intel Mac OS X 10_9_1) AppleWebKit/537.36 (KHTML, like Gecko) Chrome/32.0.1700.77 Safari/537.36|\n|83.149.9.216|2015-05-17 10:05:57|GET   |/presentations/logstash-monitorama-2013/css/fonts/Roboto-Bold.ttf                 |HTTP/1.1|200   |38720 |http://semicomplete.com/presentations/logstash-monitorama-2013/|Mozilla/5.0 (Macintosh; Intel Mac OS X 10_9_1) AppleWebKit/537.36 (KHTML, like Gecko) Chrome/32.0.1700.77 Safari/537.36|\n|83.149.9.216|2015-05-17 10:05:50|GET   |/presentations/logstash-monitorama-2013/css/fonts/Roboto-Regular.ttf              |HTTP/1.1|200   |41820 |http://semicomplete.com/presentations/logstash-monitorama-2013/|Mozilla/5.0 (Macintosh; Intel Mac OS X 10_9_1) AppleWebKit/537.36 (KHTML, like Gecko) Chrome/32.0.1700.77 Safari/537.36|\n|83.149.9.216|2015-05-17 10:05:24|GET   |/presentations/logstash-monitorama-2013/images/frontend-response-codes.png        |HTTP/1.1|200   |52878 |http://semicomplete.com/presentations/logstash-monitorama-2013/|Mozilla/5.0 (Macintosh; Intel Mac OS X 10_9_1) AppleWebKit/537.36 (KHTML, like Gecko) Chrome/32.0.1700.77 Safari/537.36|\n|83.149.9.216|2015-05-17 10:05:50|GET   |/presentations/logstash-monitorama-2013/images/kibana-dashboard.png               |HTTP/1.1|200   |321631|http://semicomplete.com/presentations/logstash-monitorama-2013/|Mozilla/5.0 (Macintosh; Intel Mac OS X 10_9_1) AppleWebKit/537.36 (KHTML, like Gecko) Chrome/32.0.1700.77 Safari/537.36|\n|83.149.9.216|2015-05-17 10:05:46|GET   |/presentations/logstash-monitorama-2013/images/Dreamhost_logo.svg                 |HTTP/1.1|200   |2126  |http://semicomplete.com/presentations/logstash-monitorama-2013/|Mozilla/5.0 (Macintosh; Intel Mac OS X 10_9_1) AppleWebKit/537.36 (KHTML, like Gecko) Chrome/32.0.1700.77 Safari/537.36|\n|83.149.9.216|2015-05-17 10:05:11|GET   |/presentations/logstash-monitorama-2013/images/kibana-dashboard2.png              |HTTP/1.1|200   |394967|http://semicomplete.com/presentations/logstash-monitorama-2013/|Mozilla/5.0 (Macintosh; Intel Mac OS X 10_9_1) AppleWebKit/537.36 (KHTML, like Gecko) Chrome/32.0.1700.77 Safari/537.36|\n|83.149.9.216|2015-05-17 10:05:19|GET   |/presentations/logstash-monitorama-2013/images/apache-icon.gif                    |HTTP/1.1|200   |8095  |http://semicomplete.com/presentations/logstash-monitorama-2013/|Mozilla/5.0 (Macintosh; Intel Mac OS X 10_9_1) AppleWebKit/537.36 (KHTML, like Gecko) Chrome/32.0.1700.77 Safari/537.36|\n|83.149.9.216|2015-05-17 10:05:33|GET   |/presentations/logstash-monitorama-2013/images/nagios-sms5.png                    |HTTP/1.1|200   |78075 |http://semicomplete.com/presentations/logstash-monitorama-2013/|Mozilla/5.0 (Macintosh; Intel Mac OS X 10_9_1) AppleWebKit/537.36 (KHTML, like Gecko) Chrome/32.0.1700.77 Safari/537.36|\n|83.149.9.216|2015-05-17 10:05:00|GET   |/presentations/logstash-monitorama-2013/images/redis.png                          |HTTP/1.1|200   |25230 |http://semicomplete.com/presentations/logstash-monitorama-2013/|Mozilla/5.0 (Macintosh; Intel Mac OS X 10_9_1) AppleWebKit/537.36 (KHTML, like Gecko) Chrome/32.0.1700.77 Safari/537.36|\n|83.149.9.216|2015-05-17 10:05:25|GET   |/presentations/logstash-monitorama-2013/images/elasticsearch.png                  |HTTP/1.1|200   |8026  |http://semicomplete.com/presentations/logstash-monitorama-2013/|Mozilla/5.0 (Macintosh; Intel Mac OS X 10_9_1) AppleWebKit/537.36 (KHTML, like Gecko) Chrome/32.0.1700.77 Safari/537.36|\n|83.149.9.216|2015-05-17 10:05:59|GET   |/presentations/logstash-monitorama-2013/images/logstashbook.png                   |HTTP/1.1|200   |54662 |http://semicomplete.com/presentations/logstash-monitorama-2013/|Mozilla/5.0 (Macintosh; Intel Mac OS X 10_9_1) AppleWebKit/537.36 (KHTML, like Gecko) Chrome/32.0.1700.77 Safari/537.36|\n|83.149.9.216|2015-05-17 10:05:30|GET   |/presentations/logstash-monitorama-2013/images/github-contributions.png           |HTTP/1.1|200   |34245 |http://semicomplete.com/presentations/logstash-monitorama-2013/|Mozilla/5.0 (Macintosh; Intel Mac OS X 10_9_1) AppleWebKit/537.36 (KHTML, like Gecko) Chrome/32.0.1700.77 Safari/537.36|\n|83.149.9.216|2015-05-17 10:05:53|GET   |/presentations/logstash-monitorama-2013/css/print/paper.css                       |HTTP/1.1|200   |4254  |http://semicomplete.com/presentations/logstash-monitorama-2013/|Mozilla/5.0 (Macintosh; Intel Mac OS X 10_9_1) AppleWebKit/537.36 (KHTML, like Gecko) Chrome/32.0.1700.77 Safari/537.36|\n|83.149.9.216|2015-05-17 10:05:24|GET   |/presentations/logstash-monitorama-2013/images/1983_delorean_dmc-12-pic-38289.jpeg|HTTP/1.1|200   |220562|http://semicomplete.com/presentations/logstash-monitorama-2013/|Mozilla/5.0 (Macintosh; Intel Mac OS X 10_9_1) AppleWebKit/537.36 (KHTML, like Gecko) Chrome/32.0.1700.77 Safari/537.36|\n+------------+-------------------+------+----------------------------------------------------------------------------------+--------+------+------+---------------------------------------------------------------+-----------------------------------------------------------------------------------------------------------------------+\nonly showing top 20 rows\n\n"
     ]
    }
   ],
   "source": [
    "from pyspark.sql.functions import to_timestamp\n",
    "\n",
    "# Clean the DataFrame\n",
    "cleaned_logs_df = parsed_logs_df.filter(parsed_logs_df.status.isNotNull())\n",
    "\n",
    "# Convert timestamp to a timestamp type\n",
    "cleaned_logs_df = cleaned_logs_df.withColumn('timestamp', to_timestamp('timestamp', 'dd/MMM/yyyy:HH:mm:ss Z'))\n",
    "\n",
    "cleaned_logs_df.show(truncate=False)"
   ]
  },
  {
   "cell_type": "code",
   "execution_count": 0,
   "metadata": {
    "application/vnd.databricks.v1+cell": {
     "cellMetadata": {
      "byteLimit": 2048000,
      "rowLimit": 10000
     },
     "inputWidgets": {},
     "nuid": "ac01561f-47f9-4069-8c5c-1f5edf556d42",
     "showTitle": false,
     "tableResultSettingsMap": {},
     "title": ""
    }
   },
   "outputs": [
    {
     "output_type": "stream",
     "name": "stdout",
     "output_type": "stream",
     "text": [
      "10000\n"
     ]
    }
   ],
   "source": [
    "total=cleaned_logs_df.count()\n",
    "print(total)"
   ]
  },
  {
   "cell_type": "code",
   "execution_count": 0,
   "metadata": {
    "application/vnd.databricks.v1+cell": {
     "cellMetadata": {
      "byteLimit": 2048000,
      "rowLimit": 10000
     },
     "inputWidgets": {},
     "nuid": "244b2880-6c34-44eb-8844-521dad62e272",
     "showTitle": false,
     "tableResultSettingsMap": {},
     "title": ""
    }
   },
   "outputs": [
    {
     "output_type": "stream",
     "name": "stdout",
     "output_type": "stream",
     "text": [
      "+--------------+-----+\n|ip            |count|\n+--------------+-----+\n|              |670  |\n|66.249.73.135 |432  |\n|46.105.14.53  |364  |\n|130.237.218.86|293  |\n|50.16.19.13   |113  |\n+--------------+-----+\nonly showing top 5 rows\n\n"
     ]
    }
   ],
   "source": [
    "#Count Requests by IP Address\n",
    "\n",
    "ip_counts_df = cleaned_logs_df.groupBy('ip').count().orderBy('count', ascending=False)\n",
    "ip_counts_df.show(5, truncate=False)"
   ]
  },
  {
   "cell_type": "code",
   "execution_count": 0,
   "metadata": {
    "application/vnd.databricks.v1+cell": {
     "cellMetadata": {
      "byteLimit": 2048000,
      "rowLimit": 10000
     },
     "inputWidgets": {},
     "nuid": "29c14557-9c89-48d1-8b27-3128ae97666e",
     "showTitle": false,
     "tableResultSettingsMap": {},
     "title": ""
    }
   },
   "outputs": [
    {
     "output_type": "stream",
     "name": "stdout",
     "output_type": "stream",
     "text": [
      "+------+-----+\n|status|count|\n+------+-----+\n|200   |8912 |\n|      |670  |\n|404   |205  |\n|301   |163  |\n|206   |45   |\n|403   |2    |\n|416   |2    |\n|500   |1    |\n+------+-----+\n\n"
     ]
    }
   ],
   "source": [
    "# Count Response Status Codes\n",
    "\n",
    "status_counts_df = cleaned_logs_df.groupBy('status').count().orderBy('count', ascending=False)\n",
    "status_counts_df.show(truncate=False)"
   ]
  },
  {
   "cell_type": "code",
   "execution_count": 0,
   "metadata": {
    "application/vnd.databricks.v1+cell": {
     "cellMetadata": {
      "byteLimit": 2048000,
      "rowLimit": 10000
     },
     "inputWidgets": {},
     "nuid": "59e0d77e-7b28-47fd-a16f-cfe9fe4fff90",
     "showTitle": false,
     "tableResultSettingsMap": {},
     "title": ""
    }
   },
   "outputs": [
    {
     "output_type": "stream",
     "name": "stdout",
     "output_type": "stream",
     "text": [
      "0\n"
     ]
    }
   ],
   "source": [
    "blank_df = cleaned_logs_df.filter(cleaned_logs_df.status.isNull())\n",
    "count_blank_status = blank_df.count()\n",
    "print(count_blank_status)"
   ]
  },
  {
   "cell_type": "code",
   "execution_count": 0,
   "metadata": {
    "application/vnd.databricks.v1+cell": {
     "cellMetadata": {
      "byteLimit": 2048000,
      "rowLimit": 10000
     },
     "inputWidgets": {},
     "nuid": "529ed135-8380-43d9-bbd7-19e6a0043faf",
     "showTitle": false,
     "tableResultSettingsMap": {},
     "title": ""
    }
   },
   "outputs": [
    {
     "output_type": "stream",
     "name": "stdout",
     "output_type": "stream",
     "text": [
      "+--------------------------------------------------------------------------+----------+\n|url                                                                       |total_size|\n+--------------------------------------------------------------------------+----------+\n|/~psionic/projects/securitrack/config.xsl                                 |353.0     |\n|/blog/site/site-design-2009.html                                          |33588.0   |\n|/presentations/logstash-preso-1.0/images/simple-inputs-filters-outputs.jpg|1168622.0 |\n|/blog/geekery/pyblosxom-mdate-vim-hack.html                               |10331.0   |\n|/blog/geekery/sysadvent-2010-begins.html?source=rss20                     |9505.0    |\n|/presentations/logstash-1/css/reset.css                                   |1015.0    |\n|/blog/tags/regexp                                                         |20513.0   |\n|/projects/pam_captcha/                                                    |42056.0   |\n|/images/ec2_m1large_cost.png                                              |253113.0  |\n|/blog/site/166.html                                                       |8684.0    |\n|/presentations/unix-basics/images/fvwm2-horen.jpg                         |228694.0  |\n|/presentations/logstash-puppetconf-2012/js/reveal.js                      |640376.0  |\n|/presentations/logstash-hmmm/plugin/notes/notes.js                        |2892.0    |\n|/blog/geekery/honeypot-auditing.html?commentlimit=0                       |9734.0    |\n|/presentations/logstash-preso-1.0/images/nagios-sms6.png                  |82859.0   |\n|/presentations/logstash-provops/images/frontend-response-codes.png        |52878.0   |\n|/blog/geekery/adventures-in-rpc-land.html                                 |8917.0    |\n|/projects/pmbackup                                                        |1676.0    |\n|/blog/geekery/119.html                                                    |9437.0    |\n|/blog/tags/c                                                              |169014.0  |\n+--------------------------------------------------------------------------+----------+\nonly showing top 20 rows\n\n"
     ]
    }
   ],
   "source": [
    "#Total Response Size by URL\n",
    "\n",
    "url_size_df = cleaned_logs_df.groupBy('url').agg({'size': 'sum'}).withColumnRenamed('sum(size)', 'total_size')\n",
    "url_size_df.show(truncate=False)"
   ]
  },
  {
   "cell_type": "code",
   "execution_count": 0,
   "metadata": {
    "application/vnd.databricks.v1+cell": {
     "cellMetadata": {
      "byteLimit": 2048000,
      "rowLimit": 10000
     },
     "inputWidgets": {},
     "nuid": "58a55cb1-b58f-4ab1-8af8-25afd09e43c3",
     "showTitle": false,
     "tableResultSettingsMap": {},
     "title": ""
    }
   },
   "outputs": [],
   "source": [
    "#Store the cleaned and analyzed data\n",
    "\n",
    "output_path = \"dbfs:/FileStore/cleaned_logs.parquet\"\n",
    "cleaned_logs_df.write.parquet(output_path)\n",
    "\n",
    "status_counts_output_path = \"dbfs:/FileStore/status_counts.parquet\"\n",
    "status_counts_df.write.parquet(status_counts_output_path)\n",
    "\n",
    "url_size_output_path = \"dbfs:/FileStore/url_sizes.parquet\"\n",
    "url_size_df.write.parquet(url_size_output_path)"
   ]
  },
  {
   "cell_type": "code",
   "execution_count": 0,
   "metadata": {
    "application/vnd.databricks.v1+cell": {
     "cellMetadata": {
      "byteLimit": 2048000,
      "rowLimit": 10000
     },
     "inputWidgets": {},
     "nuid": "ac82f01b-edb1-451a-a201-486a902f7676",
     "showTitle": false,
     "tableResultSettingsMap": {},
     "title": ""
    }
   },
   "outputs": [
    {
     "output_type": "stream",
     "name": "stdout",
     "output_type": "stream",
     "text": [
      "670\n"
     ]
    }
   ],
   "source": [
    "num=cleaned_logs_df.filter(cleaned_logs_df.ip.isin('')).count()\n",
    "print(num)"
   ]
  },
  {
   "cell_type": "markdown",
   "metadata": {
    "application/vnd.databricks.v1+cell": {
     "cellMetadata": {},
     "inputWidgets": {},
     "nuid": "d582e260-be62-4ddd-b119-27847c07a91b",
     "showTitle": false,
     "tableResultSettingsMap": {},
     "title": ""
    }
   },
   "source": []
  }
 ],
 "metadata": {
  "application/vnd.databricks.v1+notebook": {
   "dashboards": [],
   "environmentMetadata": null,
   "language": "python",
   "notebookMetadata": {
    "mostRecentlyExecutedCommandWithImplicitDF": {
     "commandId": 3450118497364248,
     "dataframes": [
      "_sqldf"
     ]
    },
    "pythonIndentUnit": 4
   },
   "notebookName": "LogSight - Server Log Analysis",
   "widgets": {}
  }
 },
 "nbformat": 4,
 "nbformat_minor": 0
}
